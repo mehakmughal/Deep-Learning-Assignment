{
  "nbformat": 4,
  "nbformat_minor": 0,
  "metadata": {
    "colab": {
      "name": "Compresive Strength Concrete Problem.ipynb",
      "private_outputs": true,
      "provenance": [],
      "collapsed_sections": []
    },
    "kernelspec": {
      "name": "python3",
      "display_name": "Python 3"
    },
    "language_info": {
      "name": "python"
    },
    "accelerator": "GPU"
  },
  "cells": [
    {
      "cell_type": "code",
      "metadata": {
        "id": "iyKKinxN9MnM"
      },
      "source": [
        "import numpy as np # linear algebra\n",
        "import pandas as pd \n",
        "import os\n",
        "for dirname, _, filenames in os.walk('/content/drive/MyDrive/Colab Notebooks/Compresive Strength Concrete Problem'):\n",
        "    for filename in filenames:\n",
        "        print(os.path.join(dirname, filename))"
      ],
      "execution_count": null,
      "outputs": []
    },
    {
      "cell_type": "code",
      "metadata": {
        "id": "H5lZSP279fEP"
      },
      "source": [
        "import matplotlib.pyplot as plt\n",
        "import seaborn as sns\n",
        "import warnings\n",
        "warnings.filterwarnings(\"ignore\")\n",
        "warnings.simplefilter(action='ignore', category=FutureWarning)\n",
        "pd.set_option('display.max_rows',500)"
      ],
      "execution_count": null,
      "outputs": []
    },
    {
      "cell_type": "code",
      "metadata": {
        "id": "FRTQ99mE9h7N"
      },
      "source": [
        "cc=pd.read_csv(\"/content/drive/MyDrive/Colab Notebooks/Compresive Strength Concrete Problem/compresive_strength_concrete.csv\")\n",
        "cc.head()"
      ],
      "execution_count": null,
      "outputs": []
    },
    {
      "cell_type": "code",
      "metadata": {
        "id": "7_DV1xJW9mFn"
      },
      "source": [
        "cc.info()"
      ],
      "execution_count": null,
      "outputs": []
    },
    {
      "cell_type": "code",
      "metadata": {
        "id": "Yt_rLtwz-Ak3"
      },
      "source": [
        "cc.shape"
      ],
      "execution_count": null,
      "outputs": []
    },
    {
      "cell_type": "code",
      "metadata": {
        "id": "oIeM9ddF-tEQ"
      },
      "source": [
        "## EDA"
      ],
      "execution_count": null,
      "outputs": []
    },
    {
      "cell_type": "code",
      "metadata": {
        "id": "zmINE31p-yvf"
      },
      "source": [
        "for i in cc.columns:\n",
        "    sns.distplot(cc[i])\n",
        "    plt.show()"
      ],
      "execution_count": null,
      "outputs": []
    },
    {
      "cell_type": "code",
      "metadata": {
        "id": "Wh54dGDD-1Bv"
      },
      "source": [
        "cc.describe()"
      ],
      "execution_count": null,
      "outputs": []
    },
    {
      "cell_type": "code",
      "metadata": {
        "id": "rMk5yNhL-4mv"
      },
      "source": [
        "cc.isnull().sum()"
      ],
      "execution_count": null,
      "outputs": []
    },
    {
      "cell_type": "code",
      "metadata": {
        "id": "Wr5qrFYa--if"
      },
      "source": [
        "## Outlier Treatment"
      ],
      "execution_count": null,
      "outputs": []
    },
    {
      "cell_type": "code",
      "metadata": {
        "id": "skm8TGhr_DJf"
      },
      "source": [
        "q1=cc.quantile(0.25)\n",
        "q3=cc.quantile(0.75)\n",
        "IQR=q3-q1\n",
        "cwo=((cc.iloc[:] <(q1-1.5*IQR))|(cc.iloc[:]>(q3+1.5*IQR))).sum(axis=0)\n",
        "opdf=pd.DataFrame(cwo,index=cc.columns,columns=['No. of Outliers'])\n",
        "opdf['Percentage Outliers']=round(opdf['No. of Outliers']*100/len(cc),2)\n",
        "opdf"
      ],
      "execution_count": null,
      "outputs": []
    },
    {
      "cell_type": "code",
      "metadata": {
        "id": "6vfdEzW7_VCn"
      },
      "source": [
        "rwo=(((cc[:]<(q1-1.5*IQR))|(cc[:]>(q3+1.5*IQR))).sum(axis=1))\n",
        "ro005=(((rwo/len(cc.columns))<0.05).sum())*100/len(cc)\n",
        "ro01=(((rwo/len(cc.columns))<0.1).sum())*100/len(cc)\n",
        "ro015=(((rwo/len(cc.columns))<0.15).sum())*100/len(cc)\n",
        "ro02=(((rwo/len(cc.columns))<0.2).sum())*100/len(cc)\n",
        "ro025=(((rwo/len(cc.columns))<0.25).sum())*100/len(cc)\n",
        "ro03=(((rwo/len(cc.columns))<0.30).sum())*100/len(cc)\n",
        "ro035=(((rwo/len(cc.columns))<=0.35).sum())*100/len(cc)\n",
        "ro04=(((rwo/len(cc.columns))<=0.4).sum())*100/len(cc)\n",
        "ro045=(((rwo/len(cc.columns))<=0.45).sum())*100/len(cc)\n",
        "ro05=(((rwo/len(cc.columns))<=0.50).sum())*100/len(cc)\n",
        "ro055=(((rwo/len(cc.columns))<0.55).sum())*100/len(cc)\n",
        "ro06=(((rwo/len(cc.columns))<0.6+0).sum())*100/len(cc)\n",
        "ro=pd.DataFrame(np.round([ro005,ro01,ro015,ro02,ro025,ro03,ro035,ro04,ro045,ro05,ro055,ro06],2),\n",
        "             index=['5%','10%','15%','20%','25%','30%','35%','40%','45%','50%','55%','60%'],\n",
        "            columns=['% Data'])\n",
        "ro.index.name='% Outlier'\n",
        "ro"
      ],
      "execution_count": null,
      "outputs": []
    },
    {
      "cell_type": "code",
      "metadata": {
        "id": "yA40Y25F_bnP"
      },
      "source": [
        "from sklearn.experimental import enable_iterative_imputer\n",
        "from sklearn.impute import IterativeImputer"
      ],
      "execution_count": null,
      "outputs": []
    },
    {
      "cell_type": "code",
      "metadata": {
        "id": "kwN_5LSq_eaU"
      },
      "source": [
        "imp = IterativeImputer()\n",
        "imp.fit(cc)\n",
        "cc=pd.DataFrame(imp.transform(cc),columns=cc.columns)"
      ],
      "execution_count": null,
      "outputs": []
    },
    {
      "cell_type": "code",
      "metadata": {
        "id": "zdvlkrg2_gbd"
      },
      "source": [
        "cc.isnull().sum()"
      ],
      "execution_count": null,
      "outputs": []
    },
    {
      "cell_type": "code",
      "metadata": {
        "id": "NT1DOuDO_8m_"
      },
      "source": [
        "## Bivariate Analysis"
      ],
      "execution_count": null,
      "outputs": []
    },
    {
      "cell_type": "code",
      "metadata": {
        "id": "2zfz9WJzABo3"
      },
      "source": [
        "g=cc.groupby('Age (day)')\n",
        "g1=g.get_group(1)\n",
        "g3=g.get_group(3)\n",
        "g7=g.get_group(7)\n",
        "g14=g.get_group(14)\n",
        "g28=g.get_group(28)\n",
        "pd.DataFrame(round(g28.iloc[:,-1].sort_values()).unique(),columns=['Comp Strength @ 28 days'])"
      ],
      "execution_count": null,
      "outputs": []
    },
    {
      "cell_type": "code",
      "metadata": {
        "id": "vc5dYvrMADu2"
      },
      "source": [
        "cp = cc.corr()\n",
        "mask = np.zeros_like(cp)\n",
        "mask[np.triu_indices_from(mask)] = True\n",
        "plt.figure(figsize=(8,8))\n",
        "with sns.axes_style(\"white\"):\n",
        "    sns.heatmap(cp,annot=True,linewidth=2,mask = mask,cmap=\"coolwarm\")\n",
        "plt.title(\"Correlation Plot\")\n",
        "plt.show()"
      ],
      "execution_count": null,
      "outputs": []
    },
    {
      "cell_type": "code",
      "metadata": {
        "id": "PL7okgD5AF_f"
      },
      "source": [
        "## Linear Regression - OLS"
      ],
      "execution_count": null,
      "outputs": []
    },
    {
      "cell_type": "code",
      "metadata": {
        "id": "gEoraOlEAJjv"
      },
      "source": [
        "import statsmodels.api as sm\n",
        "X=cc.iloc[:,:8]\n",
        "Y=cc.iloc[:,8]"
      ],
      "execution_count": null,
      "outputs": []
    },
    {
      "cell_type": "code",
      "metadata": {
        "id": "lTv0zIzOAahv"
      },
      "source": [
        "ls=sm.OLS(Y,sm.add_constant(X))\n",
        "results=ls.fit()\n",
        "results.summary()"
      ],
      "execution_count": null,
      "outputs": []
    },
    {
      "cell_type": "code",
      "metadata": {
        "id": "603EZdjJAb9k"
      },
      "source": [
        "ls=sm.OLS(Y,X)\n",
        "results=ls.fit()\n",
        "results.summary()"
      ],
      "execution_count": null,
      "outputs": []
    },
    {
      "cell_type": "code",
      "metadata": {
        "id": "jET2ACx1AhPn"
      },
      "source": [
        "## SKLEARN - Linear Regression"
      ],
      "execution_count": null,
      "outputs": []
    },
    {
      "cell_type": "code",
      "metadata": {
        "id": "0V5vl4IgAjGv"
      },
      "source": [
        "from sklearn.linear_model import LinearRegression\n",
        "from sklearn.model_selection import train_test_split"
      ],
      "execution_count": null,
      "outputs": []
    },
    {
      "cell_type": "code",
      "metadata": {
        "id": "4JUtmhNQAkYX"
      },
      "source": [
        "X_train,X_test,y_train,y_test = train_test_split(X, Y, random_state=150, test_size=0.3 )"
      ],
      "execution_count": null,
      "outputs": []
    },
    {
      "cell_type": "code",
      "metadata": {
        "id": "7u0_zc6GAmFG"
      },
      "source": [
        "lr=LinearRegression()\n",
        "lr.fit(X_train,y_train)\n",
        "print('Score: ',lr.score(X_train,y_train))\n",
        "y_pred_lrtr=lr.predict(X_train)\n",
        "y_pred_lrte=lr.predict(X_test)\n",
        "from sklearn.metrics import r2_score\n",
        "print('Train R2 score: ',r2_score(y_train,y_pred_lrtr))\n",
        "print('Test R2 score: ',r2_score(y_test,y_pred_lrte))"
      ],
      "execution_count": null,
      "outputs": []
    },
    {
      "cell_type": "code",
      "metadata": {
        "id": "kVU6ctbBAnTv"
      },
      "source": [
        "## Polynomial Regression - Degree 2"
      ],
      "execution_count": null,
      "outputs": []
    },
    {
      "cell_type": "code",
      "metadata": {
        "id": "ufk7k2IGApln"
      },
      "source": [
        "from sklearn.preprocessing import PolynomialFeatures\n",
        "pf = PolynomialFeatures(degree = 2)\n",
        "X_polytr = pf.fit_transform(X_train)\n",
        "lr.fit(X_polytr,y_train)\n",
        "y_pred_lr2tr = lr.predict(X_polytr)\n",
        "print(\"Training R2 - degree 2 polynomial: \",r2_score(y_train, y_pred_lr2tr ))\n",
        "X_polyte = pf.fit_transform(X_test)\n",
        "y_pred_lr2te= lr.predict(X_polyte)\n",
        "print(\"Test R2 - degree 2 polynomial: \",r2_score(y_test,y_pred_lr2te))"
      ],
      "execution_count": null,
      "outputs": []
    },
    {
      "cell_type": "code",
      "metadata": {
        "id": "yxZ1B8eqAsYn"
      },
      "source": [
        "## Polynomial Regression - Degree 3"
      ],
      "execution_count": null,
      "outputs": []
    },
    {
      "cell_type": "code",
      "metadata": {
        "id": "4ESNY6RjAvAS"
      },
      "source": [
        "pf = PolynomialFeatures(degree = 3)\n",
        "X_polytr = pf.fit_transform(X_train)\n",
        "lr.fit(X_polytr,y_train)\n",
        "y_pred_lr2tr = lr.predict(X_polytr)\n",
        "print(\"Training R2 - degree 2 polynomial: \",r2_score(y_train, y_pred_lr2tr ))\n",
        "X_polyte = pf.fit_transform(X_test)\n",
        "y_pred_lr2te= lr.predict(X_polyte)\n",
        "print(\"Test R2 - degree 2 polynomial: \",r2_score(y_test,y_pred_lr2te))"
      ],
      "execution_count": null,
      "outputs": []
    },
    {
      "cell_type": "code",
      "metadata": {
        "id": "ZmcWNhsKAwaR"
      },
      "source": [
        "## Polynomial Regression - Degree 4"
      ],
      "execution_count": null,
      "outputs": []
    },
    {
      "cell_type": "code",
      "metadata": {
        "id": "DZlCO5E2A09P"
      },
      "source": [
        "pf = PolynomialFeatures(degree = 4)\n",
        "X_polytr = pf.fit_transform(X_train)\n",
        "lr.fit(X_polytr,y_train)\n",
        "y_pred_lr2tr = lr.predict(X_polytr)\n",
        "print(\"Training R2 - degree 2 polynomial: \",r2_score(y_train, y_pred_lr2tr ))\n",
        "X_polyte = pf.fit_transform(X_test)\n",
        "y_pred_lr2te= lr.predict(X_polyte)\n",
        "print(\"Test R2 - degree 2 polynomial: \",r2_score(y_test,y_pred_lr2te))"
      ],
      "execution_count": null,
      "outputs": []
    },
    {
      "cell_type": "code",
      "metadata": {
        "id": "tEOnbbrJA2IP"
      },
      "source": [
        "## Decision Tree Regressor"
      ],
      "execution_count": null,
      "outputs": []
    },
    {
      "cell_type": "code",
      "metadata": {
        "id": "deidFpTfA6tH"
      },
      "source": [
        "from sklearn.tree import DecisionTreeRegressor"
      ],
      "execution_count": null,
      "outputs": []
    },
    {
      "cell_type": "code",
      "metadata": {
        "id": "ia7hKqGoA8JA"
      },
      "source": [
        "dt=DecisionTreeRegressor()\n",
        "dt.fit(X_train,y_train)\n",
        "dt.score(X_train,y_train)\n",
        "y_pred_dttr=dt.predict(X_train)\n",
        "y_pred_dtte=dt.predict(X_test)\n",
        "print('Train R2 score: ',r2_score(y_train,y_pred_dttr))\n",
        "print('Test R2 score: ',r2_score(y_test,y_pred_dtte))"
      ],
      "execution_count": null,
      "outputs": []
    },
    {
      "cell_type": "code",
      "metadata": {
        "id": "00ulti2_A9no"
      },
      "source": [
        "from sklearn.model_selection import GridSearchCV\n",
        "param_grid = {'max_depth': np.arange(3, 8),\n",
        "             'criterion' : ['mse','mae'],\n",
        "             'max_leaf_nodes': [5,10,20,100],\n",
        "             'min_samples_split': [2, 5, 10, 20]}\n",
        "\n",
        "grid_tree = GridSearchCV(DecisionTreeRegressor(), param_grid, cv = 5, scoring= 'r2')\n",
        "grid_tree.fit(X_train, y_train)\n",
        "print(grid_tree.best_estimator_)\n",
        "print(np.abs(grid_tree.best_score_))"
      ],
      "execution_count": null,
      "outputs": []
    },
    {
      "cell_type": "code",
      "metadata": {
        "id": "JNEhjkM2A_OD"
      },
      "source": [
        "dtpr=DecisionTreeRegressor(criterion='mse', max_depth=7, max_features=None,\n",
        "                      max_leaf_nodes=100, min_impurity_decrease=0.0,\n",
        "                      min_impurity_split=None, min_samples_leaf=1,\n",
        "                      min_samples_split=10, min_weight_fraction_leaf=0.0,\n",
        "                      presort=False, random_state=None, splitter='best')\n",
        "dtpr.fit(X_train,y_train)\n",
        "dtpr.score(X_train,y_train)\n",
        "y_pred_dtprtr=dtpr.predict(X_train)\n",
        "y_pred_dtprte=dtpr.predict(X_test)\n",
        "print('Train R2 score: ',r2_score(y_train,y_pred_dtprtr))\n",
        "print('Test R2 score: ',r2_score(y_test,y_pred_dtprte))"
      ],
      "execution_count": null,
      "outputs": []
    },
    {
      "cell_type": "code",
      "metadata": {
        "id": "l0ZdXkmIBC7P"
      },
      "source": [
        "param_grid = {'max_depth': np.arange(3, 6),\n",
        "             'criterion' : ['mse','mae'],\n",
        "             'max_leaf_nodes': [100,105, 90,95],\n",
        "             'min_samples_split': [6,7,8,9,10],\n",
        "             'max_features':[2,3,4,5,6]}\n",
        "\n",
        "grid_tree = GridSearchCV(DecisionTreeRegressor(), param_grid, cv = 5, scoring= 'r2')\n",
        "grid_tree.fit(X_train, y_train)\n",
        "print(grid_tree.best_estimator_)\n",
        "print(np.abs(grid_tree.best_score_))"
      ],
      "execution_count": null,
      "outputs": []
    },
    {
      "cell_type": "code",
      "metadata": {
        "id": "KFxInFMKBEj_"
      },
      "source": [
        "dtpr=DecisionTreeRegressor(criterion='mae', max_depth=5, max_features=6,\n",
        "                      max_leaf_nodes=95, min_impurity_decrease=0.0,\n",
        "                      min_impurity_split=None, min_samples_leaf=1,\n",
        "                      min_samples_split=8, min_weight_fraction_leaf=0.0,\n",
        "                      presort=False, random_state=None, splitter='best')\n",
        "dtpr.fit(X_train,y_train)\n",
        "dtpr.score(X_train,y_train)\n",
        "y_pred_dtprtr=dtpr.predict(X_train)\n",
        "y_pred_dtprte=dtpr.predict(X_test)\n",
        "print('Train R2 score: ',r2_score(y_train,y_pred_dtprtr))\n",
        "print('Test R2 score: ',r2_score(y_test,y_pred_dtprte))"
      ],
      "execution_count": null,
      "outputs": []
    },
    {
      "cell_type": "code",
      "metadata": {
        "id": "oZP_iWCIBHJt"
      },
      "source": [
        "## AdaBoost Regressor"
      ],
      "execution_count": null,
      "outputs": []
    },
    {
      "cell_type": "code",
      "metadata": {
        "id": "Ku4Saz5EBJXn"
      },
      "source": [
        "from sklearn.ensemble import AdaBoostRegressor\n",
        "abr = AdaBoostRegressor(random_state=0, n_estimators=100)\n",
        "abr.fit(X_train, y_train)\n",
        "abr.feature_importances_  \n",
        "abr.fit(X_train,y_train)\n",
        "abr.score(X_train,y_train)\n",
        "y_pred_abrtr=abr.predict(X_train)\n",
        "y_pred_abrte=abr.predict(X_test)\n",
        "print('Train R2 score: ',r2_score(y_train,y_pred_abrtr))\n",
        "print('Test R2 score: ',r2_score(y_test,y_pred_abrte))"
      ],
      "execution_count": null,
      "outputs": []
    },
    {
      "cell_type": "code",
      "metadata": {
        "id": "ZiK509wVBLYf"
      },
      "source": [
        " ## RandomForest Regressor"
      ],
      "execution_count": null,
      "outputs": []
    },
    {
      "cell_type": "code",
      "metadata": {
        "id": "dBzZsmgyBN8M"
      },
      "source": [
        "from sklearn.ensemble import RandomForestRegressor\n",
        "rfr=RandomForestRegressor()\n",
        "rfr.fit(X_train,y_train)\n",
        "rfr.score(X_train,y_train)\n",
        "y_pred_rfrtr=rfr.predict(X_train)\n",
        "y_pred_rfrte=rfr.predict(X_test)\n",
        "print('Train R2 score: ',r2_score(y_train,y_pred_rfrtr))\n",
        "print('Test R2 score: ',r2_score(y_test,y_pred_rfrte))"
      ],
      "execution_count": null,
      "outputs": []
    },
    {
      "cell_type": "code",
      "metadata": {
        "id": "cb1WRGBrBPdf"
      },
      "source": [
        "param_grid = {'max_depth': np.arange(3, 8),\n",
        "             'criterion' : ['mse','mae'],\n",
        "             'max_leaf_nodes': [100,105, 90,95],\n",
        "             'min_samples_split': [6,7,8,9,10],\n",
        "             'max_features':['auto','sqrt','log2']}\n",
        "\n",
        "grid_tree = GridSearchCV(RandomForestRegressor(), param_grid, cv = 5, scoring= 'r2')\n",
        "grid_tree.fit(X_train, y_train)\n",
        "print(grid_tree.best_estimator_)\n",
        "print(np.abs(grid_tree.best_score_))"
      ],
      "execution_count": null,
      "outputs": []
    },
    {
      "cell_type": "code",
      "metadata": {
        "id": "LAmKNLuCBRSZ"
      },
      "source": [
        "rfr=RandomForestRegressor(bootstrap=True, criterion='mse', max_depth=7,\n",
        "                      max_features='auto', max_leaf_nodes=90,\n",
        "                      min_impurity_decrease=0.0, min_impurity_split=None,\n",
        "                      min_samples_leaf=2, min_samples_split=7,\n",
        "                      min_weight_fraction_leaf=0.0, n_estimators=100,\n",
        "                      n_jobs=None, oob_score=False, random_state=None,\n",
        "                      verbose=0, warm_start=False)\n",
        "rfr.fit(X_train,y_train)\n",
        "rfr.score(X_train,y_train)\n",
        "y_pred_rfrtr=rfr.predict(X_train)\n",
        "y_pred_rfrte=rfr.predict(X_test)\n",
        "print('Train R2 score: ',r2_score(y_train,y_pred_rfrtr))\n",
        "print('Test R2 score: ',r2_score(y_test,y_pred_rfrte))"
      ],
      "execution_count": null,
      "outputs": []
    },
    {
      "cell_type": "code",
      "metadata": {
        "id": "B4ukAU5mBTQt"
      },
      "source": [
        "## Gradient Boosting"
      ],
      "execution_count": null,
      "outputs": []
    },
    {
      "cell_type": "code",
      "metadata": {
        "id": "Fb273JubBWQV"
      },
      "source": [
        "from sklearn.ensemble import GradientBoostingRegressor\n",
        "gb=GradientBoostingRegressor()\n",
        "gb.fit(X_train,y_train)\n",
        "gb.score(X_train,y_train)\n",
        "y_pred_gbtr=gb.predict(X_train)\n",
        "y_pred_gbte=gb.predict(X_test)\n",
        "print('Train R2 score: ',r2_score(y_train,y_pred_gbtr))\n",
        "print('Test R2 score: ',r2_score(y_test,y_pred_gbte))"
      ],
      "execution_count": null,
      "outputs": []
    },
    {
      "cell_type": "code",
      "metadata": {
        "id": "JTPNGurnBdyA"
      },
      "source": [
        "param_grid = {'n_estimators': [230],\n",
        "              'max_depth': range(10,31,2), \n",
        "              'min_samples_split': range(50,501,10), \n",
        "              'learning_rate':[0.2]}\n",
        "clf = GridSearchCV(GradientBoostingRegressor(random_state=1), \n",
        "                   param_grid = param_grid, scoring='r2', \n",
        "                   cv=5).fit(X_train, y_train)\n",
        "print(clf.best_estimator_) \n",
        "print(\"R Squared:\",clf.best_score_)"
      ],
      "execution_count": null,
      "outputs": []
    },
    {
      "cell_type": "code",
      "metadata": {
        "id": "a-Q0bo1qBgLo"
      },
      "source": [
        "gb=GradientBoostingRegressor(alpha=0.9, criterion='friedman_mse', init=None,\n",
        "                          learning_rate=0.2, loss='ls', max_depth=14,\n",
        "                          max_features=None, max_leaf_nodes=None,\n",
        "                          min_impurity_decrease=0.0, min_impurity_split=None,\n",
        "                          min_samples_leaf=1, min_samples_split=150,\n",
        "                          min_weight_fraction_leaf=0.0, n_estimators=230,\n",
        "                          n_iter_no_change=None, presort='auto', random_state=1,\n",
        "                          subsample=1.0, tol=0.0001, validation_fraction=0.1,\n",
        "                          verbose=0, warm_start=False)\n",
        "gb.fit(X_train,y_train)\n",
        "gb.score(X_train,y_train)\n",
        "y_pred_gbtr=gb.predict(X_train)\n",
        "y_pred_gbte=gb.predict(X_test)\n",
        "print('Train R2 score: ',r2_score(y_train,y_pred_gbtr))\n",
        "print('Test R2 score: ',r2_score(y_test,y_pred_gbte))"
      ],
      "execution_count": null,
      "outputs": []
    },
    {
      "cell_type": "code",
      "metadata": {
        "id": "-5VaelaaBiRe"
      },
      "source": [
        "## XGBoost Regressor"
      ],
      "execution_count": null,
      "outputs": []
    },
    {
      "cell_type": "code",
      "metadata": {
        "id": "joBKf63ZBk8Q"
      },
      "source": [
        "from xgboost import XGBRegressor\n",
        "\n",
        "xgb=XGBRegressor()\n",
        "xgb.fit(X_train,y_train)\n",
        "print('Model Score: ', xgb.score(X_train,y_train))\n",
        "y_pred_xgbtr=xgb.predict(X_train)\n",
        "y_pred_xgbte=xgb.predict(X_test)\n",
        "print('Train R2-Score: ', r2_score(y_train,y_pred_xgbtr))\n",
        "print('Test R2-Score: ', r2_score(y_test,y_pred_xgbte))"
      ],
      "execution_count": null,
      "outputs": []
    },
    {
      "cell_type": "code",
      "metadata": {
        "id": "xMaoEz63BmcI"
      },
      "source": [
        "xgb=XGBRegressor(base_score=0.7, booster='gbtree', colsample_bylevel=1,\n",
        "             colsample_bynode=0.65, colsample_bytree=1, gamma=0.3,\n",
        "             importance_type='weight', learning_rate=0.2, max_delta_step=150,\n",
        "             max_depth=4, min_child_weight=0.5, missing=None, n_estimators=200,\n",
        "             n_jobs=1, nthread=None, objective='reg:squarederror', random_state=0,\n",
        "             reg_alpha=0.001, reg_lambda=1, scale_pos_weight=1, seed=None,\n",
        "             silent=None, subsample=1, verbosity=1)\n",
        "xgb.fit(X_train,y_train)\n",
        "print('Model Score: ', xgb.score(X_train,y_train))\n",
        "y_pred_xgbtr=xgb.predict(X_train)\n",
        "y_pred_xgbte=xgb.predict(X_test)\n",
        "print('Train R2-Score: ', r2_score(y_train,y_pred_xgbtr))\n",
        "print('Test R2-Score: ', r2_score(y_test,y_pred_xgbte))"
      ],
      "execution_count": null,
      "outputs": []
    },
    {
      "cell_type": "code",
      "metadata": {
        "id": "gAA-F0I3BoIq"
      },
      "source": [
        "## Interpreting Black Box Models"
      ],
      "execution_count": null,
      "outputs": []
    },
    {
      "cell_type": "code",
      "metadata": {
        "id": "jVNOG2JYBqmV"
      },
      "source": [
        "import shap"
      ],
      "execution_count": null,
      "outputs": []
    },
    {
      "cell_type": "code",
      "metadata": {
        "id": "Z1qEPkNEBsSG"
      },
      "source": [
        "explainer = shap.TreeExplainer(xgb)\n",
        "shap_values = explainer.shap_values(X_train)"
      ],
      "execution_count": null,
      "outputs": []
    },
    {
      "cell_type": "code",
      "metadata": {
        "id": "kKXndP2EBtoL"
      },
      "source": [
        "for i in X_train.columns:\n",
        "    shap.dependence_plot(i,shap_values, X_train)"
      ],
      "execution_count": null,
      "outputs": []
    },
    {
      "cell_type": "code",
      "metadata": {
        "id": "X93Hz7-ZBvtm"
      },
      "source": [
        "shap.summary_plot(shap_values, X_train)"
      ],
      "execution_count": null,
      "outputs": []
    },
    {
      "cell_type": "code",
      "metadata": {
        "id": "V7UlZxw4BxlP"
      },
      "source": [
        ""
      ],
      "execution_count": null,
      "outputs": []
    }
  ]
}