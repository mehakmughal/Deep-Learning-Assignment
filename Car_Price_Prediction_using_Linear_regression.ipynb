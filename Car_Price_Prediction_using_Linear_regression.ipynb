{
  "nbformat": 4,
  "nbformat_minor": 0,
  "metadata": {
    "colab": {
      "name": "Car Price Prediction using  Linear regression.ipynb",
      "private_outputs": true,
      "provenance": [],
      "collapsed_sections": []
    },
    "kernelspec": {
      "name": "python3",
      "display_name": "Python 3"
    },
    "accelerator": "GPU"
  },
  "cells": [
    {
      "cell_type": "code",
      "metadata": {
        "id": "o49omLoNahgl"
      },
      "source": [
        "import numpy as np # linear algebra\n",
        "import pandas as pd # data processing, CSV file I/O (e.g. pd.read_csv)\n",
        "import os\n",
        "for dirname, _, filenames in os.walk('/content/drive/MyDrive/Colab Notebooks/Car Price Prediction'):\n",
        "    for filename in filenames:\n",
        "        print(os.path.join(dirname, filename))\n",
        "\n"
      ],
      "execution_count": null,
      "outputs": []
    },
    {
      "cell_type": "code",
      "metadata": {
        "id": "0LBDDw_3bym3"
      },
      "source": [
        "# Import Modules\n",
        "import pandas as pd\n",
        "import numpy as np \n",
        "import matplotlib.pyplot as plt\n",
        "import seaborn as sns\n",
        "import scipy.stats as st\n",
        "from sklearn.metrics import mean_squared_error,mean_absolute_error\n",
        "import warnings\n",
        "warnings.simplefilter(\"ignore\")\n",
        "# Load Data\n",
        "data = pd.read_csv(\"../content/drive/MyDrive/Colab Notebooks/Car Price Prediction/CarPrice_Assignment.csv\")\n",
        "data"
      ],
      "execution_count": null,
      "outputs": []
    },
    {
      "cell_type": "code",
      "metadata": {
        "id": "neomFMw2crlK"
      },
      "source": [
        "data.shape"
      ],
      "execution_count": null,
      "outputs": []
    },
    {
      "cell_type": "code",
      "metadata": {
        "id": "uy-dQQuec2Qb"
      },
      "source": [
        "# First look data\n",
        "data.head(10)"
      ],
      "execution_count": null,
      "outputs": []
    },
    {
      "cell_type": "code",
      "metadata": {
        "id": "4bMSIx9Rc6XD"
      },
      "source": [
        "data.drop(\"car_ID\",axis = 1,inplace = True)"
      ],
      "execution_count": null,
      "outputs": []
    },
    {
      "cell_type": "code",
      "metadata": {
        "id": "xtSSvs-8c9G5"
      },
      "source": [
        "#categorical feat.\n",
        "categorical = data.select_dtypes(\"object\").columns\n",
        "#numeric\n",
        "numeric = data.select_dtypes([\"int64\",\"float\"]).columns\n",
        "###\n",
        "print(\"Number of Categorical Data :{}\".format(len(categorical)))\n",
        "print(\"Number of Numeric Data :{}\".format(len(numeric)))"
      ],
      "execution_count": null,
      "outputs": []
    },
    {
      "cell_type": "code",
      "metadata": {
        "id": "e67hl0wpdCDz"
      },
      "source": [
        "# NA values \n",
        "print(\"Number of NA Values for all of data : {}\".format(data.isna().sum().sum()))"
      ],
      "execution_count": null,
      "outputs": []
    },
    {
      "cell_type": "code",
      "metadata": {
        "id": "mzyBQNSLdKW7"
      },
      "source": [
        "data.describe().T"
      ],
      "execution_count": null,
      "outputs": []
    },
    {
      "cell_type": "code",
      "metadata": {
        "id": "icb7LvMTh4D0"
      },
      "source": [
        "data.info([0])"
      ],
      "execution_count": null,
      "outputs": []
    },
    {
      "cell_type": "code",
      "metadata": {
        "id": "f4xZznr1h_3E"
      },
      "source": [
        "# Distribution of Target \n",
        "sns.displot(data.price,color=\"red\")\n",
        "#\n",
        "st.skew(data.price)"
      ],
      "execution_count": null,
      "outputs": []
    },
    {
      "cell_type": "code",
      "metadata": {
        "id": "4Ly6SjTkiPfF"
      },
      "source": [
        "# Log transform\n",
        "log_price = np.log1p(data.price)\n",
        "sns.distplot(log_price,color = \"red\")\n",
        "print(\"P-Value : {}\".format(st.kstest(log_price,\"norm\")[1]))"
      ],
      "execution_count": null,
      "outputs": []
    },
    {
      "cell_type": "code",
      "metadata": {
        "id": "TOBS3zmHiSf7"
      },
      "source": [
        "# Root Square Transform\n",
        "sqrtprice = np.sqrt(data.price)\n",
        "sns.distplot(sqrtprice)\n",
        "print(\"P-Value : {}\".format(st.kstest(sqrtprice,\"norm\")[1]))"
      ],
      "execution_count": null,
      "outputs": []
    },
    {
      "cell_type": "code",
      "metadata": {
        "id": "-ZB3U7BMiUuU"
      },
      "source": [
        "#boxcox transform\n",
        "boxcox_trans = st.boxcox(data.price)\n",
        "results = boxcox_trans[0] #values\n",
        "lam = boxcox_trans[1] #lambda \n",
        "sns.distplot(results)\n",
        "print(\"P-Value : {}\".format(st.kstest(results,\"norm\")[1]))"
      ],
      "execution_count": null,
      "outputs": []
    },
    {
      "cell_type": "code",
      "metadata": {
        "id": "uyKJFlh2iW_E"
      },
      "source": [
        "data.price = results\n",
        "lambda_price = lam"
      ],
      "execution_count": null,
      "outputs": []
    },
    {
      "cell_type": "code",
      "metadata": {
        "id": "NRhhSXQpib3E"
      },
      "source": [
        "results"
      ],
      "execution_count": null,
      "outputs": []
    },
    {
      "cell_type": "code",
      "metadata": {
        "id": "dcSFKdSxieds"
      },
      "source": [
        "lam"
      ],
      "execution_count": null,
      "outputs": []
    },
    {
      "cell_type": "code",
      "metadata": {
        "id": "LyXKWMjHijvs"
      },
      "source": [
        "for col in categorical:\n",
        "    print(\"####\",col,\"####\")\n",
        "    print(data[col].value_counts(),'\\n')"
      ],
      "execution_count": null,
      "outputs": []
    },
    {
      "cell_type": "code",
      "metadata": {
        "id": "6CcV917Vio2s"
      },
      "source": [
        "for col in categorical:\n",
        "    print(col,\":::\",data[col].nunique())"
      ],
      "execution_count": null,
      "outputs": []
    },
    {
      "cell_type": "code",
      "metadata": {
        "id": "SmDnCVy5itkU"
      },
      "source": [
        "data_carname = list(data.CarName.astype(\"str\"))\n",
        "split_car = []\n",
        "for i in range(0,len(data_carname)):\n",
        "    split_car.append(data_carname[i].split()[0])\n",
        "    \n",
        "data[\"brand\"] = split_car\n",
        "data.drop(\"CarName\",axis = 1,inplace = True)\n",
        "data.brand.replace(\"maxda\",\"mazda\",inplace=True)\n",
        "data.brand.replace(\"maxda\",\"mazda\",inplace=True)\n",
        "data.brand.replace(\"Nissan\",\"nissan\",inplace=True)\n",
        "data.brand.replace(\"porcshce\",\"porsche\",inplace=True)\n",
        "data.brand.replace(\"vokswagen\",\"volkswagen\",inplace=True)\n",
        "data.brand.replace(\"vw\",\"volkswagen\",inplace=True)\n",
        "data.brand.replace(\"toyouta\",\"toyota\",inplace=True)\n",
        "data.brand.replace(\"alfa-romero\",\"alfa-romeo\",inplace=True)\n"
      ],
      "execution_count": null,
      "outputs": []
    },
    {
      "cell_type": "code",
      "metadata": {
        "id": "YQXiVe_Iiv80"
      },
      "source": [
        "(print(data.brand.value_counts()))\n"
      ],
      "execution_count": null,
      "outputs": []
    },
    {
      "cell_type": "code",
      "metadata": {
        "id": "3NlcGvtaj0RE"
      },
      "source": [
        "### Feature Selection"
      ],
      "execution_count": null,
      "outputs": []
    },
    {
      "cell_type": "code",
      "metadata": {
        "id": "WOYlOspQiynz"
      },
      "source": [
        "corr = data.corr()\n",
        "corr.style.background_gradient(cmap='coolwarm')"
      ],
      "execution_count": null,
      "outputs": []
    },
    {
      "cell_type": "code",
      "metadata": {
        "id": "QbWF0K8-jeq9"
      },
      "source": [
        "categorical = data.select_dtypes(\"object\").columns\n",
        "dummy = pd.get_dummies(data[categorical],drop_first=True)\n",
        "data.drop(categorical,axis = 1,inplace=True)\n",
        "data = pd.concat([dummy,data],axis = 1)"
      ],
      "execution_count": null,
      "outputs": []
    },
    {
      "cell_type": "code",
      "metadata": {
        "id": "LDuc5cdwjtAk"
      },
      "source": [
        "X = data.drop(\"price\",axis = 1)\n",
        "y = data.price"
      ],
      "execution_count": null,
      "outputs": []
    },
    {
      "cell_type": "code",
      "metadata": {
        "id": "FitJx5lNjvwt"
      },
      "source": [
        "### MOdel making"
      ],
      "execution_count": null,
      "outputs": []
    },
    {
      "cell_type": "code",
      "metadata": {
        "id": "ODiEbDuqkBFt"
      },
      "source": [
        "from sklearn.preprocessing import StandardScaler,PolynomialFeatures\n",
        "from sklearn.model_selection import KFold,cross_val_predict\n",
        "from sklearn.linear_model import LinearRegression,Lasso,Ridge\n",
        "from sklearn.metrics import r2_score\n",
        "from sklearn.pipeline import Pipeline\n",
        "from scipy.special import inv_boxcox\n",
        "kf = KFold(shuffle=True,random_state=42,n_splits=5)\n",
        "scale = StandardScaler()"
      ],
      "execution_count": null,
      "outputs": []
    },
    {
      "cell_type": "code",
      "metadata": {
        "id": "hmvP8FO5kFcy"
      },
      "source": [
        "# Simple Linear Regression\n",
        "scores = []\n",
        "lr = LinearRegression()\n",
        "for train_index,test_index in kf.split(X):\n",
        "    X_train,X_test,y_train,y_test = (X.iloc[train_index,:],X.iloc[test_index,:],\n",
        "                                     y.iloc[train_index],y.iloc[test_index])\n",
        "    model = lr.fit(X_train,y_train)\n",
        "    pred = model.predict(X_test)\n",
        "    #pred = inv_boxcox(pred,lam)\n",
        "    scores.append(r2_score(pred,y_test))\n",
        "    plt.scatter(y_test.values,pred)\n",
        "    plt.show()\n",
        "print(scores)"
      ],
      "execution_count": null,
      "outputs": []
    },
    {
      "cell_type": "code",
      "metadata": {
        "id": "npH9fIdGkIgs"
      },
      "source": [
        "# Lasso Regression\n",
        "\n",
        "\n",
        "alphas = np.geomspace(0.01,20,num = 15) \n",
        "scores = []\n",
        "for alpha in alphas:\n",
        "    lasso = Lasso(alpha=alpha,max_iter = 10000)\n",
        "    estimator = Pipeline([(\"scaler\",scale),(\"lasso_regression\",lasso)])\n",
        "    predictions = cross_val_predict(estimator,X,y,cv=kf)\n",
        "    scores.append(r2_score(y,predictions))\n",
        "\n",
        "\n",
        "plt.semilogx(alphas,scores,\"-*\")  # Alphalara karşılık R2 sonucu için grafik\n",
        "r2_lasso = pd.DataFrame(zip(alphas,scores),columns=[\"Alpha\",\"R2_Score\"])"
      ],
      "execution_count": null,
      "outputs": []
    },
    {
      "cell_type": "code",
      "metadata": {
        "id": "iVVbA0wokReE"
      },
      "source": [
        "r2_lasso"
      ],
      "execution_count": null,
      "outputs": []
    },
    {
      "cell_type": "code",
      "metadata": {
        "id": "ppn4qEoTqK7M"
      },
      "source": [
        "# Lasso with add Polynomial Features\n",
        "pf = PolynomialFeatures(degree = 2)\n",
        "scores = []\n",
        "alphas = np.geomspace(1,20,num = 5) \n",
        "\n",
        "for alpha in alphas:\n",
        "    lasso = Lasso(alpha=alpha,max_iter = 100000)\n",
        "    estimator = Pipeline([(\"polynomial_feature\",pf),(\"scaler\",scale),(\"lasso_regression\",lasso)])\n",
        "    predictions = cross_val_predict(estimator,X,y,cv=kf)\n",
        "    scores.append(r2_score(y,predictions))\n",
        "\n",
        "\n",
        "plt.semilogx(alphas,scores,\"-*\")\n",
        "pf_lasso_r2 = pd.DataFrame(list(zip(alphas,scores)),columns=[\"Alpha\",\"R2_Score\"])"
      ],
      "execution_count": null,
      "outputs": []
    },
    {
      "cell_type": "code",
      "metadata": {
        "id": "zBnMDv7lqXo_"
      },
      "source": [
        "pf_lasso_r2"
      ],
      "execution_count": null,
      "outputs": []
    },
    {
      "cell_type": "code",
      "metadata": {
        "id": "thmErBijql79"
      },
      "source": [
        "# Ridge Regression\n",
        "pf = PolynomialFeatures(degree = 3)\n",
        "scores = []\n",
        "alphas = np.geomspace(0.1,20,num = 20) \n",
        "\n",
        "for alpha in alphas:\n",
        "    ridge = Ridge(alpha=alpha,max_iter = 100000)\n",
        "    estimator = Pipeline([(\"polynomial_feature\",pf),(\"scaler\",scale),(\"ridge_regression\",ridge)])\n",
        "    predictions = cross_val_predict(estimator,X,y,cv=kf)\n",
        "    print(\"For Alpha :: {}\".format(alpha),\"----> Root Mean Squared Error : {}\".format(np.sqrt(mean_squared_error(y,predictions))))\n",
        "    scores.append(r2_score(y,predictions))\n",
        "plt.semilogx(alphas,scores,\"-o\")\n",
        "ridge_r2 = pd.DataFrame(list(zip(alphas,scores)),columns=[\"Alpha\",\"R2_Score\"])"
      ],
      "execution_count": null,
      "outputs": []
    },
    {
      "cell_type": "code",
      "metadata": {
        "id": "Pv1SspsGqnwF"
      },
      "source": [
        "ridge_r2"
      ],
      "execution_count": null,
      "outputs": []
    },
    {
      "cell_type": "code",
      "metadata": {
        "id": "gbfSXFLfqyc-"
      },
      "source": [
        "from sklearn.model_selection import GridSearchCV\n",
        "estimator = Pipeline([(\"polynomial\",PolynomialFeatures(include_bias=False)),\n",
        "                      (\"scale\",scale),\n",
        "                      (\"ridge_regression\",Ridge())])\n",
        "params = {\"polynomial__degree\":[1,2,3],\n",
        "          \"ridge_regression__alpha\":np.geomspace(4,20,30)}\n",
        "grid = GridSearchCV(estimator,params,cv = kf)\n",
        "grid.fit(X,y)\n",
        "grid.best_score_"
      ],
      "execution_count": null,
      "outputs": []
    },
    {
      "cell_type": "code",
      "metadata": {
        "id": "YdU8JBLyq1L2"
      },
      "source": [
        "## Main Model"
      ],
      "execution_count": null,
      "outputs": []
    },
    {
      "cell_type": "code",
      "metadata": {
        "id": "gUeEO_zzq252"
      },
      "source": [
        "grid.best_params_"
      ],
      "execution_count": null,
      "outputs": []
    },
    {
      "cell_type": "code",
      "metadata": {
        "id": "9irruJ8JrGFW"
      },
      "source": [
        " ## Conclusion \n"
      ],
      "execution_count": null,
      "outputs": []
    },
    {
      "cell_type": "code",
      "metadata": {
        "id": "RxPadL6VrJ_d"
      },
      "source": [
        "from sklearn.metrics import mean_squared_error\n",
        "estimator = Pipeline([(\"polynomial\",PolynomialFeatures(degree = 3,include_bias=False)),\n",
        "                      (\"scale\",scale),\n",
        "                      (\"ridge_regression\",Ridge(alpha=20.000000000000004))])\n",
        "estimator.fit(X_train,y_train)\n",
        "predict = estimator.predict(X_test)\n",
        "\n",
        "print(\"R2 Score for Ridge Regression : {}\".format(r2_score(predict,y_test)))\n",
        "print(\"Root Mean Squared Error : {}\".format(np.sqrt(mean_squared_error(y_test,predict))))\n",
        "print(\"Mean Absolute Error : {}\".format(mean_absolute_error(predict,y_test)))\n"
      ],
      "execution_count": null,
      "outputs": []
    },
    {
      "cell_type": "code",
      "metadata": {
        "id": "9g0iKqQRrL03"
      },
      "source": [
        "estimator"
      ],
      "execution_count": null,
      "outputs": []
    },
    {
      "cell_type": "code",
      "metadata": {
        "id": "ZO0k62K1rZYf"
      },
      "source": [
        ""
      ],
      "execution_count": null,
      "outputs": []
    }
  ]
}